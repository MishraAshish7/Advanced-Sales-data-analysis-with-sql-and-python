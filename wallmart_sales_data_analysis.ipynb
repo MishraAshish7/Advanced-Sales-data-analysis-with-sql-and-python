{
 "cells": [
  {
   "cell_type": "code",
   "execution_count": null,
   "id": "3700ab5b-15e6-4506-8630-3fad10715976",
   "metadata": {},
   "outputs": [],
   "source": [
    "# Easy Level:\n",
    "\n",
    "# 1. What are the summary statistics (mean, median, standard deviation) for Weekly_Sales, Temperature, Fuel_Price, CPI, and Unemployment?\n",
    "# 2. How does the distribution of Weekly_Sales vary across different weeks?\n",
    "# 3. What is the trend of Weekly_Sales over time?\n",
    "\n",
    "# Intermediate Level:\n",
    "\n",
    "# 1. Is there a correlation between Weekly_Sales and other variables such as Temperature, Fuel_Price, CPI, and Unemployment?\n",
    "# 2. How do Weekly_Sales vary on holidays compared to non-holidays?\n",
    "# 3. What is the average Weekly_Sales for each store?\n",
    "# 4. Is there a seasonal pattern in Weekly_Sales based on the temperature or time of the year?\n",
    "\n",
    "# Advanced Level:\n",
    "\n",
    "# 1. How does the impact of Temperature on Weekly_Sales differ by store?\n",
    "# 2. Can we predict Weekly_Sales using variables such as Temperature, Fuel_Price, CPI, and Unemployment? If so, which variable is the most significant predictor?\n",
    "# 3. Is there any evidence of autocorrelation in Weekly_Sales over time, and how might this affect future sales forecasting?\n",
    "# 4. How does the variability of Weekly_Sales change with different levels of CPI and Unemployment?\n",
    "# 5. What are the time series forecasting models (e.g., ARIMA, Exponential Smoothing) that best predict Weekly_Sales given historical data?"
   ]
  }
 ],
 "metadata": {
  "kernelspec": {
   "display_name": "Python 3 (ipykernel)",
   "language": "python",
   "name": "python3"
  },
  "language_info": {
   "codemirror_mode": {
    "name": "ipython",
    "version": 3
   },
   "file_extension": ".py",
   "mimetype": "text/x-python",
   "name": "python",
   "nbconvert_exporter": "python",
   "pygments_lexer": "ipython3",
   "version": "3.12.2"
  }
 },
 "nbformat": 4,
 "nbformat_minor": 5
}
